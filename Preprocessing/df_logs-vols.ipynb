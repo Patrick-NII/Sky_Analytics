{
 "cells": [
  {
   "cell_type": "code",
   "execution_count": 29,
   "metadata": {},
   "outputs": [],
   "source": [
    "from skimpy import skim \n",
    "import json \n",
    "import requests \n",
    "import pandas as pd\n",
    "from pandas import json_normalize \n",
    "import numpy as np\n",
    "import matplotlib.pyplot as plt\n",
    "import seaborn as sns\n",
    "import os"
   ]
  },
  {
   "cell_type": "code",
   "execution_count": 44,
   "metadata": {},
   "outputs": [],
   "source": [
    "def concat_logs(df_logs_vol):\n",
    "    files=[file for file in os.listdir(r'D:\\Top_gun\\Datasets\\df_logs_vols') if file.endswith('.csv')]\n",
    "    path = r'D:\\Top_gun\\Datasets\\df_logs_vols'\n",
    "\n",
    "    all_data = pd.DataFrame()\n",
    "    for file in files:\n",
    "        data = pd.read_csv(path + '/' + file)\n",
    "        all_data = pd.concat([all_data, data])\n",
    "        # export the data to a csv file\n",
    "    all_data.to_csv(r'D:\\Top_gun\\Datasets\\df_logs_vols\\all_data_logs_vols.csv', index=False)\n",
    "concat_logs('df_logs_vols')"
   ]
  },
  {
   "cell_type": "code",
   "execution_count": 47,
   "metadata": {},
   "outputs": [
    {
     "data": {
      "text/html": [
       "<div>\n",
       "<style scoped>\n",
       "    .dataframe tbody tr th:only-of-type {\n",
       "        vertical-align: middle;\n",
       "    }\n",
       "\n",
       "    .dataframe tbody tr th {\n",
       "        vertical-align: top;\n",
       "    }\n",
       "\n",
       "    .dataframe thead th {\n",
       "        text-align: right;\n",
       "    }\n",
       "</style>\n",
       "<table border=\"1\" class=\"dataframe\">\n",
       "  <thead>\n",
       "    <tr style=\"text-align: right;\">\n",
       "      <th></th>\n",
       "      <th>ref_vol</th>\n",
       "      <th>aero_linked</th>\n",
       "      <th>jour_vol</th>\n",
       "      <th>time_en_air</th>\n",
       "      <th>sensor_data</th>\n",
       "      <th>etat_voyant</th>\n",
       "    </tr>\n",
       "  </thead>\n",
       "  <tbody>\n",
       "    <tr>\n",
       "      <th>0</th>\n",
       "      <td>V07679725</td>\n",
       "      <td>B767_4924</td>\n",
       "      <td>2024-06-02</td>\n",
       "      <td>7.0</td>\n",
       "      <td>{'temp': '-5.7°C', 'pressure': '930.6 hPa', 'v...</td>\n",
       "      <td>0</td>\n",
       "    </tr>\n",
       "    <tr>\n",
       "      <th>1</th>\n",
       "      <td>V02564879</td>\n",
       "      <td>B747_3165</td>\n",
       "      <td>2024-06-02</td>\n",
       "      <td>5.1</td>\n",
       "      <td>{'temp': '0.9°C', 'pressure': '950.6 hPa', 'vi...</td>\n",
       "      <td>0</td>\n",
       "    </tr>\n",
       "    <tr>\n",
       "      <th>2</th>\n",
       "      <td>V07933973</td>\n",
       "      <td>B757_2518</td>\n",
       "      <td>2024-06-02</td>\n",
       "      <td>7.7</td>\n",
       "      <td>{'temp': '-6.2°C', 'pressure': '975.5 hPa', 'v...</td>\n",
       "      <td>3</td>\n",
       "    </tr>\n",
       "    <tr>\n",
       "      <th>3</th>\n",
       "      <td>V02230187</td>\n",
       "      <td>A340_1047</td>\n",
       "      <td>2024-06-02</td>\n",
       "      <td>6.1</td>\n",
       "      <td>{'temp': '-25.3°C', 'pressure': '945.1 hPa', '...</td>\n",
       "      <td>1</td>\n",
       "    </tr>\n",
       "    <tr>\n",
       "      <th>4</th>\n",
       "      <td>V09071213</td>\n",
       "      <td>B757_6806</td>\n",
       "      <td>2024-06-02</td>\n",
       "      <td>4.5</td>\n",
       "      <td>{'temp': '11.1°C', 'pressure': '931.3 hPa', 'v...</td>\n",
       "      <td>0</td>\n",
       "    </tr>\n",
       "  </tbody>\n",
       "</table>\n",
       "</div>"
      ],
      "text/plain": [
       "     ref_vol aero_linked    jour_vol  time_en_air  \\\n",
       "0  V07679725   B767_4924  2024-06-02          7.0   \n",
       "1  V02564879   B747_3165  2024-06-02          5.1   \n",
       "2  V07933973   B757_2518  2024-06-02          7.7   \n",
       "3  V02230187   A340_1047  2024-06-02          6.1   \n",
       "4  V09071213   B757_6806  2024-06-02          4.5   \n",
       "\n",
       "                                         sensor_data  etat_voyant  \n",
       "0  {'temp': '-5.7°C', 'pressure': '930.6 hPa', 'v...            0  \n",
       "1  {'temp': '0.9°C', 'pressure': '950.6 hPa', 'vi...            0  \n",
       "2  {'temp': '-6.2°C', 'pressure': '975.5 hPa', 'v...            3  \n",
       "3  {'temp': '-25.3°C', 'pressure': '945.1 hPa', '...            1  \n",
       "4  {'temp': '11.1°C', 'pressure': '931.3 hPa', 'v...            0  "
      ]
     },
     "execution_count": 47,
     "metadata": {},
     "output_type": "execute_result"
    }
   ],
   "source": [
    "df_logs_vols = pd.read_csv(r'D:\\Top_gun\\Datasets\\df_logs_vols\\all_data_logs_vols.csv', sep=',')\n",
    "df_logs_vols.head()"
   ]
  },
  {
   "cell_type": "code",
   "execution_count": null,
   "metadata": {},
   "outputs": [],
   "source": []
  },
  {
   "cell_type": "code",
   "execution_count": 39,
   "metadata": {},
   "outputs": [
    {
     "name": "stdout",
     "output_type": "stream",
     "text": [
      "<class 'pandas.core.frame.DataFrame'>\n",
      "RangeIndex: 115830 entries, 0 to 115829\n",
      "Data columns (total 6 columns):\n",
      " #   Column            Non-Null Count   Dtype  \n",
      "---  ------            --------------   -----  \n",
      " 0   ref_deg           115830 non-null  object \n",
      " 1   linked_aero       115830 non-null  object \n",
      " 2   compo_concerned   115830 non-null  object \n",
      " 3   usure_nouvelle    115830 non-null  float64\n",
      " 4   measure_day       115830 non-null  object \n",
      " 5   need_replacement  115830 non-null  bool   \n",
      "dtypes: bool(1), float64(1), object(4)\n",
      "memory usage: 4.5+ MB\n"
     ]
    }
   ],
   "source": [
    "df_logs_vols.info()"
   ]
  },
  {
   "cell_type": "code",
   "execution_count": 28,
   "metadata": {},
   "outputs": [
    {
     "data": {
      "text/html": [
       "<pre style=\"white-space:pre;overflow-x:auto;line-height:normal;font-family:Menlo,'DejaVu Sans Mono',consolas,'Courier New',monospace\">╭──────────────────────────────────────────────── skimpy summary ─────────────────────────────────────────────────╮\n",
       "│ <span style=\"font-style: italic\">         Data Summary         </span> <span style=\"font-style: italic\">      Data Types       </span>                                                          │\n",
       "│ ┏━━━━━━━━━━━━━━━━━━━┳━━━━━━━━┓ ┏━━━━━━━━━━━━━┳━━━━━━━┓                                                          │\n",
       "│ ┃<span style=\"color: #008080; text-decoration-color: #008080; font-weight: bold\"> dataframe         </span>┃<span style=\"color: #008080; text-decoration-color: #008080; font-weight: bold\"> Values </span>┃ ┃<span style=\"color: #008080; text-decoration-color: #008080; font-weight: bold\"> Column Type </span>┃<span style=\"color: #008080; text-decoration-color: #008080; font-weight: bold\"> Count </span>┃                                                          │\n",
       "│ ┡━━━━━━━━━━━━━━━━━━━╇━━━━━━━━┩ ┡━━━━━━━━━━━━━╇━━━━━━━┩                                                          │\n",
       "│ │ Number of rows    │ 203    │ │ float64     │ 4     │                                                          │\n",
       "│ │ Number of columns │ 8      │ │ string      │ 3     │                                                          │\n",
       "│ └───────────────────┴────────┘ │ int32       │ 1     │                                                          │\n",
       "│                                └─────────────┴───────┘                                                          │\n",
       "│ <span style=\"font-style: italic\">                                                    number                                                    </span>  │\n",
       "│ ┏━━━━━━━━━━━━━━━━━━━━━━┳━━━━━┳━━━━━━━┳━━━━━━━━━┳━━━━━━━━━┳━━━━━━━━┳━━━━━━━━━┳━━━━━━━┳━━━━━━━┳━━━━━━━┳━━━━━━━━┓  │\n",
       "│ ┃<span style=\"font-weight: bold\"> column_name          </span>┃<span style=\"font-weight: bold\"> NA  </span>┃<span style=\"font-weight: bold\"> NA %  </span>┃<span style=\"font-weight: bold\"> mean    </span>┃<span style=\"font-weight: bold\"> sd      </span>┃<span style=\"font-weight: bold\"> p0     </span>┃<span style=\"font-weight: bold\"> p25     </span>┃<span style=\"font-weight: bold\"> p50   </span>┃<span style=\"font-weight: bold\"> p75   </span>┃<span style=\"font-weight: bold\"> p100  </span>┃<span style=\"font-weight: bold\"> hist   </span>┃  │\n",
       "│ ┡━━━━━━━━━━━━━━━━━━━━━━╇━━━━━╇━━━━━━━╇━━━━━━━━━╇━━━━━━━━━╇━━━━━━━━╇━━━━━━━━━╇━━━━━━━╇━━━━━━━╇━━━━━━━╇━━━━━━━━┩  │\n",
       "│ │ <span style=\"color: #af87ff; text-decoration-color: #af87ff\">time_en_air         </span> │ <span style=\"color: #008080; text-decoration-color: #008080\">  0</span> │ <span style=\"color: #008080; text-decoration-color: #008080\">    0</span> │ <span style=\"color: #008080; text-decoration-color: #008080\">  5.083</span> │ <span style=\"color: #008080; text-decoration-color: #008080\">  2.636</span> │ <span style=\"color: #008080; text-decoration-color: #008080\">   0.6</span> │ <span style=\"color: #008080; text-decoration-color: #008080\">   3.25</span> │ <span style=\"color: #008080; text-decoration-color: #008080\">  4.9</span> │ <span style=\"color: #008080; text-decoration-color: #008080\"> 6.65</span> │ <span style=\"color: #008080; text-decoration-color: #008080\">   13</span> │ <span style=\"color: #008000; text-decoration-color: #008000\">▅▇▇▃▂▁</span> │  │\n",
       "│ │ <span style=\"color: #af87ff; text-decoration-color: #af87ff\">etat_voyant         </span> │ <span style=\"color: #008080; text-decoration-color: #008080\">  0</span> │ <span style=\"color: #008080; text-decoration-color: #008080\">    0</span> │ <span style=\"color: #008080; text-decoration-color: #008080\"> 0.1626</span> │ <span style=\"color: #008080; text-decoration-color: #008080\"> 0.3699</span> │ <span style=\"color: #008080; text-decoration-color: #008080\">     0</span> │ <span style=\"color: #008080; text-decoration-color: #008080\">      0</span> │ <span style=\"color: #008080; text-decoration-color: #008080\">    0</span> │ <span style=\"color: #008080; text-decoration-color: #008080\">    0</span> │ <span style=\"color: #008080; text-decoration-color: #008080\">    1</span> │ <span style=\"color: #008000; text-decoration-color: #008000\">▇    ▂</span> │  │\n",
       "│ │ <span style=\"color: #af87ff; text-decoration-color: #af87ff\">temp en °C          </span> │ <span style=\"color: #008080; text-decoration-color: #008080\">  0</span> │ <span style=\"color: #008080; text-decoration-color: #008080\">    0</span> │ <span style=\"color: #008080; text-decoration-color: #008080\"> 0.3414</span> │ <span style=\"color: #008080; text-decoration-color: #008080\">  10.54</span> │ <span style=\"color: #008080; text-decoration-color: #008080\"> -36.5</span> │ <span style=\"color: #008080; text-decoration-color: #008080\">   -5.8</span> │ <span style=\"color: #008080; text-decoration-color: #008080\">  0.6</span> │ <span style=\"color: #008080; text-decoration-color: #008080\">  6.3</span> │ <span style=\"color: #008080; text-decoration-color: #008080\"> 29.2</span> │ <span style=\"color: #008000; text-decoration-color: #008000\"> ▁▅▇▃▁</span> │  │\n",
       "│ │ <span style=\"color: #af87ff; text-decoration-color: #af87ff\">pressure en hPa     </span> │ <span style=\"color: #008080; text-decoration-color: #008080\">  0</span> │ <span style=\"color: #008080; text-decoration-color: #008080\">    0</span> │ <span style=\"color: #008080; text-decoration-color: #008080\">  953.6</span> │ <span style=\"color: #008080; text-decoration-color: #008080\">  49.13</span> │ <span style=\"color: #008080; text-decoration-color: #008080\"> 788.9</span> │ <span style=\"color: #008080; text-decoration-color: #008080\">  918.6</span> │ <span style=\"color: #008080; text-decoration-color: #008080\">954.2</span> │ <span style=\"color: #008080; text-decoration-color: #008080\">986.9</span> │ <span style=\"color: #008080; text-decoration-color: #008080\"> 1100</span> │ <span style=\"color: #008000; text-decoration-color: #008000\"> ▂▆▇▃ </span> │  │\n",
       "│ │ <span style=\"color: #af87ff; text-decoration-color: #af87ff\">vibrations en m/s²  </span> │ <span style=\"color: #008080; text-decoration-color: #008080\">  0</span> │ <span style=\"color: #008080; text-decoration-color: #008080\">    0</span> │ <span style=\"color: #008080; text-decoration-color: #008080\">  2.313</span> │ <span style=\"color: #008080; text-decoration-color: #008080\">  1.538</span> │ <span style=\"color: #008080; text-decoration-color: #008080\"> 0.009</span> │ <span style=\"color: #008080; text-decoration-color: #008080\"> 0.9565</span> │ <span style=\"color: #008080; text-decoration-color: #008080\"> 2.01</span> │ <span style=\"color: #008080; text-decoration-color: #008080\">3.861</span> │ <span style=\"color: #008080; text-decoration-color: #008080\">4.995</span> │ <span style=\"color: #008000; text-decoration-color: #008000\">▇▇▇▃▅▇</span> │  │\n",
       "│ └──────────────────────┴─────┴───────┴─────────┴─────────┴────────┴─────────┴───────┴───────┴───────┴────────┘  │\n",
       "│ <span style=\"font-style: italic\">                                                    string                                                    </span>  │\n",
       "│ ┏━━━━━━━━━━━━━━━━━━━━━━━━━━━┳━━━━━━━━━┳━━━━━━━━━━━━┳━━━━━━━━━━━━━━━━━━━━━━━━━━━━━━┳━━━━━━━━━━━━━━━━━━━━━━━━━━┓  │\n",
       "│ ┃<span style=\"font-weight: bold\"> column_name               </span>┃<span style=\"font-weight: bold\"> NA      </span>┃<span style=\"font-weight: bold\"> NA %       </span>┃<span style=\"font-weight: bold\"> words per row                </span>┃<span style=\"font-weight: bold\"> total words              </span>┃  │\n",
       "│ ┡━━━━━━━━━━━━━━━━━━━━━━━━━━━╇━━━━━━━━━╇━━━━━━━━━━━━╇━━━━━━━━━━━━━━━━━━━━━━━━━━━━━━╇━━━━━━━━━━━━━━━━━━━━━━━━━━┩  │\n",
       "│ │ <span style=\"color: #af87ff; text-decoration-color: #af87ff\">ref_vol                  </span> │ <span style=\"color: #008080; text-decoration-color: #008080\">      0</span> │ <span style=\"color: #008080; text-decoration-color: #008080\">         0</span> │ <span style=\"color: #008080; text-decoration-color: #008080\">                           1</span> │ <span style=\"color: #008080; text-decoration-color: #008080\">                     203</span> │  │\n",
       "│ │ <span style=\"color: #af87ff; text-decoration-color: #af87ff\">aero_linked              </span> │ <span style=\"color: #008080; text-decoration-color: #008080\">      0</span> │ <span style=\"color: #008080; text-decoration-color: #008080\">         0</span> │ <span style=\"color: #008080; text-decoration-color: #008080\">                           1</span> │ <span style=\"color: #008080; text-decoration-color: #008080\">                     203</span> │  │\n",
       "│ │ <span style=\"color: #af87ff; text-decoration-color: #af87ff\">jour_vol                 </span> │ <span style=\"color: #008080; text-decoration-color: #008080\">      0</span> │ <span style=\"color: #008080; text-decoration-color: #008080\">         0</span> │ <span style=\"color: #008080; text-decoration-color: #008080\">                           1</span> │ <span style=\"color: #008080; text-decoration-color: #008080\">                     203</span> │  │\n",
       "│ └───────────────────────────┴─────────┴────────────┴──────────────────────────────┴──────────────────────────┘  │\n",
       "╰────────────────────────────────────────────────────── End ──────────────────────────────────────────────────────╯\n",
       "</pre>\n"
      ],
      "text/plain": [
       "╭──────────────────────────────────────────────── skimpy summary ─────────────────────────────────────────────────╮\n",
       "│ \u001b[3m         Data Summary         \u001b[0m \u001b[3m      Data Types       \u001b[0m                                                          │\n",
       "│ ┏━━━━━━━━━━━━━━━━━━━┳━━━━━━━━┓ ┏━━━━━━━━━━━━━┳━━━━━━━┓                                                          │\n",
       "│ ┃\u001b[1;36m \u001b[0m\u001b[1;36mdataframe        \u001b[0m\u001b[1;36m \u001b[0m┃\u001b[1;36m \u001b[0m\u001b[1;36mValues\u001b[0m\u001b[1;36m \u001b[0m┃ ┃\u001b[1;36m \u001b[0m\u001b[1;36mColumn Type\u001b[0m\u001b[1;36m \u001b[0m┃\u001b[1;36m \u001b[0m\u001b[1;36mCount\u001b[0m\u001b[1;36m \u001b[0m┃                                                          │\n",
       "│ ┡━━━━━━━━━━━━━━━━━━━╇━━━━━━━━┩ ┡━━━━━━━━━━━━━╇━━━━━━━┩                                                          │\n",
       "│ │ Number of rows    │ 203    │ │ float64     │ 4     │                                                          │\n",
       "│ │ Number of columns │ 8      │ │ string      │ 3     │                                                          │\n",
       "│ └───────────────────┴────────┘ │ int32       │ 1     │                                                          │\n",
       "│                                └─────────────┴───────┘                                                          │\n",
       "│ \u001b[3m                                                    number                                                    \u001b[0m  │\n",
       "│ ┏━━━━━━━━━━━━━━━━━━━━━━┳━━━━━┳━━━━━━━┳━━━━━━━━━┳━━━━━━━━━┳━━━━━━━━┳━━━━━━━━━┳━━━━━━━┳━━━━━━━┳━━━━━━━┳━━━━━━━━┓  │\n",
       "│ ┃\u001b[1m \u001b[0m\u001b[1mcolumn_name         \u001b[0m\u001b[1m \u001b[0m┃\u001b[1m \u001b[0m\u001b[1mNA \u001b[0m\u001b[1m \u001b[0m┃\u001b[1m \u001b[0m\u001b[1mNA % \u001b[0m\u001b[1m \u001b[0m┃\u001b[1m \u001b[0m\u001b[1mmean   \u001b[0m\u001b[1m \u001b[0m┃\u001b[1m \u001b[0m\u001b[1msd     \u001b[0m\u001b[1m \u001b[0m┃\u001b[1m \u001b[0m\u001b[1mp0    \u001b[0m\u001b[1m \u001b[0m┃\u001b[1m \u001b[0m\u001b[1mp25    \u001b[0m\u001b[1m \u001b[0m┃\u001b[1m \u001b[0m\u001b[1mp50  \u001b[0m\u001b[1m \u001b[0m┃\u001b[1m \u001b[0m\u001b[1mp75  \u001b[0m\u001b[1m \u001b[0m┃\u001b[1m \u001b[0m\u001b[1mp100 \u001b[0m\u001b[1m \u001b[0m┃\u001b[1m \u001b[0m\u001b[1mhist  \u001b[0m\u001b[1m \u001b[0m┃  │\n",
       "│ ┡━━━━━━━━━━━━━━━━━━━━━━╇━━━━━╇━━━━━━━╇━━━━━━━━━╇━━━━━━━━━╇━━━━━━━━╇━━━━━━━━━╇━━━━━━━╇━━━━━━━╇━━━━━━━╇━━━━━━━━┩  │\n",
       "│ │ \u001b[38;5;141mtime_en_air         \u001b[0m │ \u001b[36m  0\u001b[0m │ \u001b[36m    0\u001b[0m │ \u001b[36m  5.083\u001b[0m │ \u001b[36m  2.636\u001b[0m │ \u001b[36m   0.6\u001b[0m │ \u001b[36m   3.25\u001b[0m │ \u001b[36m  4.9\u001b[0m │ \u001b[36m 6.65\u001b[0m │ \u001b[36m   13\u001b[0m │ \u001b[32m▅▇▇▃▂▁\u001b[0m │  │\n",
       "│ │ \u001b[38;5;141metat_voyant         \u001b[0m │ \u001b[36m  0\u001b[0m │ \u001b[36m    0\u001b[0m │ \u001b[36m 0.1626\u001b[0m │ \u001b[36m 0.3699\u001b[0m │ \u001b[36m     0\u001b[0m │ \u001b[36m      0\u001b[0m │ \u001b[36m    0\u001b[0m │ \u001b[36m    0\u001b[0m │ \u001b[36m    1\u001b[0m │ \u001b[32m▇    ▂\u001b[0m │  │\n",
       "│ │ \u001b[38;5;141mtemp en °C          \u001b[0m │ \u001b[36m  0\u001b[0m │ \u001b[36m    0\u001b[0m │ \u001b[36m 0.3414\u001b[0m │ \u001b[36m  10.54\u001b[0m │ \u001b[36m -36.5\u001b[0m │ \u001b[36m   -5.8\u001b[0m │ \u001b[36m  0.6\u001b[0m │ \u001b[36m  6.3\u001b[0m │ \u001b[36m 29.2\u001b[0m │ \u001b[32m ▁▅▇▃▁\u001b[0m │  │\n",
       "│ │ \u001b[38;5;141mpressure en hPa     \u001b[0m │ \u001b[36m  0\u001b[0m │ \u001b[36m    0\u001b[0m │ \u001b[36m  953.6\u001b[0m │ \u001b[36m  49.13\u001b[0m │ \u001b[36m 788.9\u001b[0m │ \u001b[36m  918.6\u001b[0m │ \u001b[36m954.2\u001b[0m │ \u001b[36m986.9\u001b[0m │ \u001b[36m 1100\u001b[0m │ \u001b[32m ▂▆▇▃ \u001b[0m │  │\n",
       "│ │ \u001b[38;5;141mvibrations en m/s²  \u001b[0m │ \u001b[36m  0\u001b[0m │ \u001b[36m    0\u001b[0m │ \u001b[36m  2.313\u001b[0m │ \u001b[36m  1.538\u001b[0m │ \u001b[36m 0.009\u001b[0m │ \u001b[36m 0.9565\u001b[0m │ \u001b[36m 2.01\u001b[0m │ \u001b[36m3.861\u001b[0m │ \u001b[36m4.995\u001b[0m │ \u001b[32m▇▇▇▃▅▇\u001b[0m │  │\n",
       "│ └──────────────────────┴─────┴───────┴─────────┴─────────┴────────┴─────────┴───────┴───────┴───────┴────────┘  │\n",
       "│ \u001b[3m                                                    string                                                    \u001b[0m  │\n",
       "│ ┏━━━━━━━━━━━━━━━━━━━━━━━━━━━┳━━━━━━━━━┳━━━━━━━━━━━━┳━━━━━━━━━━━━━━━━━━━━━━━━━━━━━━┳━━━━━━━━━━━━━━━━━━━━━━━━━━┓  │\n",
       "│ ┃\u001b[1m \u001b[0m\u001b[1mcolumn_name              \u001b[0m\u001b[1m \u001b[0m┃\u001b[1m \u001b[0m\u001b[1mNA     \u001b[0m\u001b[1m \u001b[0m┃\u001b[1m \u001b[0m\u001b[1mNA %      \u001b[0m\u001b[1m \u001b[0m┃\u001b[1m \u001b[0m\u001b[1mwords per row               \u001b[0m\u001b[1m \u001b[0m┃\u001b[1m \u001b[0m\u001b[1mtotal words             \u001b[0m\u001b[1m \u001b[0m┃  │\n",
       "│ ┡━━━━━━━━━━━━━━━━━━━━━━━━━━━╇━━━━━━━━━╇━━━━━━━━━━━━╇━━━━━━━━━━━━━━━━━━━━━━━━━━━━━━╇━━━━━━━━━━━━━━━━━━━━━━━━━━┩  │\n",
       "│ │ \u001b[38;5;141mref_vol                  \u001b[0m │ \u001b[36m      0\u001b[0m │ \u001b[36m         0\u001b[0m │ \u001b[36m                           1\u001b[0m │ \u001b[36m                     203\u001b[0m │  │\n",
       "│ │ \u001b[38;5;141maero_linked              \u001b[0m │ \u001b[36m      0\u001b[0m │ \u001b[36m         0\u001b[0m │ \u001b[36m                           1\u001b[0m │ \u001b[36m                     203\u001b[0m │  │\n",
       "│ │ \u001b[38;5;141mjour_vol                 \u001b[0m │ \u001b[36m      0\u001b[0m │ \u001b[36m         0\u001b[0m │ \u001b[36m                           1\u001b[0m │ \u001b[36m                     203\u001b[0m │  │\n",
       "│ └───────────────────────────┴─────────┴────────────┴──────────────────────────────┴──────────────────────────┘  │\n",
       "╰────────────────────────────────────────────────────── End ──────────────────────────────────────────────────────╯\n"
      ]
     },
     "metadata": {},
     "output_type": "display_data"
    }
   ],
   "source": [
    "skim(df_logs_vols)"
   ]
  }
 ],
 "metadata": {
  "kernelspec": {
   "display_name": "Python 3",
   "language": "python",
   "name": "python3"
  },
  "language_info": {
   "codemirror_mode": {
    "name": "ipython",
    "version": 3
   },
   "file_extension": ".py",
   "mimetype": "text/x-python",
   "name": "python",
   "nbconvert_exporter": "python",
   "pygments_lexer": "ipython3",
   "version": "3.12.2"
  }
 },
 "nbformat": 4,
 "nbformat_minor": 2
}
