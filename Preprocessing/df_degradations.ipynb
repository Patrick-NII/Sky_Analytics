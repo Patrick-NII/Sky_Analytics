{
 "cells": [
  {
   "cell_type": "code",
   "execution_count": 2,
   "metadata": {},
   "outputs": [],
   "source": [
    "from skimpy import skim as sk\n",
    "import json \n",
    "import requests \n",
    "import pandas as pd\n",
    "from pandas import json_normalize \n",
    "import numpy as np\n",
    "import matplotlib.pyplot as plt\n",
    "import seaborn as sns\n",
    "from sklearn.preprocessing import StandardScaler \n",
    "from sklearn.decomposition import PCA \n",
    "from sklearn.cluster import KMeans "
   ]
  },
  {
   "cell_type": "code",
   "execution_count": 4,
   "metadata": {},
   "outputs": [
    {
     "data": {
      "text/html": [
       "<div>\n",
       "<style scoped>\n",
       "    .dataframe tbody tr th:only-of-type {\n",
       "        vertical-align: middle;\n",
       "    }\n",
       "\n",
       "    .dataframe tbody tr th {\n",
       "        vertical-align: top;\n",
       "    }\n",
       "\n",
       "    .dataframe thead th {\n",
       "        text-align: right;\n",
       "    }\n",
       "</style>\n",
       "<table border=\"1\" class=\"dataframe\">\n",
       "  <thead>\n",
       "    <tr style=\"text-align: right;\">\n",
       "      <th></th>\n",
       "      <th>ref_deg</th>\n",
       "      <th>linked_aero</th>\n",
       "      <th>compo_concerned</th>\n",
       "      <th>usure_nouvelle</th>\n",
       "      <th>measure_day</th>\n",
       "      <th>need_replacement</th>\n",
       "    </tr>\n",
       "  </thead>\n",
       "  <tbody>\n",
       "    <tr>\n",
       "      <th>0</th>\n",
       "      <td>D003661</td>\n",
       "      <td>E170_6353</td>\n",
       "      <td>REAE170-E170_6353-0</td>\n",
       "      <td>53.308375</td>\n",
       "      <td>2024-06-01</td>\n",
       "      <td>False</td>\n",
       "    </tr>\n",
       "    <tr>\n",
       "      <th>1</th>\n",
       "      <td>D009402</td>\n",
       "      <td>E170_6353</td>\n",
       "      <td>REAE170-E170_6353-1</td>\n",
       "      <td>50.111950</td>\n",
       "      <td>2024-06-01</td>\n",
       "      <td>False</td>\n",
       "    </tr>\n",
       "    <tr>\n",
       "      <th>2</th>\n",
       "      <td>D000812</td>\n",
       "      <td>E170_6353</td>\n",
       "      <td>SYSE170-E170_6353-2</td>\n",
       "      <td>16.730575</td>\n",
       "      <td>2024-06-01</td>\n",
       "      <td>False</td>\n",
       "    </tr>\n",
       "    <tr>\n",
       "      <th>3</th>\n",
       "      <td>D006665</td>\n",
       "      <td>E170_6353</td>\n",
       "      <td>ORDE170-E170_6353-3</td>\n",
       "      <td>6.653075</td>\n",
       "      <td>2024-06-01</td>\n",
       "      <td>False</td>\n",
       "    </tr>\n",
       "    <tr>\n",
       "      <th>4</th>\n",
       "      <td>D001163</td>\n",
       "      <td>E170_6353</td>\n",
       "      <td>AUTE170-E170_6353-4</td>\n",
       "      <td>42.033525</td>\n",
       "      <td>2024-06-01</td>\n",
       "      <td>False</td>\n",
       "    </tr>\n",
       "  </tbody>\n",
       "</table>\n",
       "</div>"
      ],
      "text/plain": [
       "   ref_deg linked_aero      compo_concerned  usure_nouvelle measure_day  \\\n",
       "0  D003661   E170_6353  REAE170-E170_6353-0       53.308375  2024-06-01   \n",
       "1  D009402   E170_6353  REAE170-E170_6353-1       50.111950  2024-06-01   \n",
       "2  D000812   E170_6353  SYSE170-E170_6353-2       16.730575  2024-06-01   \n",
       "3  D006665   E170_6353  ORDE170-E170_6353-3        6.653075  2024-06-01   \n",
       "4  D001163   E170_6353  AUTE170-E170_6353-4       42.033525  2024-06-01   \n",
       "\n",
       "   need_replacement  \n",
       "0             False  \n",
       "1             False  \n",
       "2             False  \n",
       "3             False  \n",
       "4             False  "
      ]
     },
     "execution_count": 4,
     "metadata": {},
     "output_type": "execute_result"
    }
   ],
   "source": [
    "df_degradations =  pd.read_csv('D:\\\\Sky_Analytics\\\\Datasets\\\\df_degradations\\\\degradations_2024-06-02.csv')\n",
    "df_degradations.head()"
   ]
  }
 ],
 "metadata": {
  "kernelspec": {
   "display_name": "Python 3",
   "language": "python",
   "name": "python3"
  },
  "language_info": {
   "codemirror_mode": {
    "name": "ipython",
    "version": 3
   },
   "file_extension": ".py",
   "mimetype": "text/x-python",
   "name": "python",
   "nbconvert_exporter": "python",
   "pygments_lexer": "ipython3",
   "version": "3.12.2"
  }
 },
 "nbformat": 4,
 "nbformat_minor": 2
}
