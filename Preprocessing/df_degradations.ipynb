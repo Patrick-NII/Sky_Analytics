{
 "cells": [
  {
   "cell_type": "code",
   "execution_count": 1,
   "metadata": {},
   "outputs": [],
   "source": [
    "from skimpy import skim as sk\n",
    "import re\n",
    "import os\n",
    "import json \n",
    "import requests \n",
    "import pandas as pd\n",
    "from pandas import json_normalize \n",
    "import numpy as np\n",
    "import matplotlib.pyplot as plt\n",
    "import seaborn as sns\n",
    "from skimpy import skim\n"
   ]
  },
  {
   "cell_type": "code",
   "execution_count": 2,
   "metadata": {},
   "outputs": [],
   "source": [
    "def concat_degradations(degradations):\n",
    "    files=[file for file in os.listdir(r'D:\\Top_gun\\Datasets\\df_degradations') if file.endswith('.csv')]\n",
    "    path = r'D:\\Top_gun\\Datasets\\df_degradations'\n",
    "\n",
    "    all_data = pd.DataFrame()\n",
    "    for file in files:\n",
    "        data = pd.read_csv(path + '/' + file)\n",
    "        all_data = pd.concat([all_data, data])\n",
    "        # export the data to a csv file\n",
    "    all_data.to_csv(r'D:\\Top_gun\\Datasets\\df_degradations\\all_data_degradations.csv', index=False)\n",
    "    \n",
    "concat_degradations('degradations')"
   ]
  },
  {
   "cell_type": "code",
   "execution_count": 3,
   "metadata": {},
   "outputs": [
    {
     "data": {
      "text/html": [
       "<div>\n",
       "<style scoped>\n",
       "    .dataframe tbody tr th:only-of-type {\n",
       "        vertical-align: middle;\n",
       "    }\n",
       "\n",
       "    .dataframe tbody tr th {\n",
       "        vertical-align: top;\n",
       "    }\n",
       "\n",
       "    .dataframe thead th {\n",
       "        text-align: right;\n",
       "    }\n",
       "</style>\n",
       "<table border=\"1\" class=\"dataframe\">\n",
       "  <thead>\n",
       "    <tr style=\"text-align: right;\">\n",
       "      <th></th>\n",
       "      <th>ref_deg</th>\n",
       "      <th>linked_aero</th>\n",
       "      <th>compo_concerned</th>\n",
       "      <th>usure_nouvelle</th>\n",
       "      <th>measure_day</th>\n",
       "      <th>need_replacement</th>\n",
       "    </tr>\n",
       "  </thead>\n",
       "  <tbody>\n",
       "    <tr>\n",
       "      <th>0</th>\n",
       "      <td>D003661</td>\n",
       "      <td>E170_6353</td>\n",
       "      <td>REAE170-E170_6353-0</td>\n",
       "      <td>53.308375</td>\n",
       "      <td>2024-06-01</td>\n",
       "      <td>False</td>\n",
       "    </tr>\n",
       "    <tr>\n",
       "      <th>1</th>\n",
       "      <td>D009402</td>\n",
       "      <td>E170_6353</td>\n",
       "      <td>REAE170-E170_6353-1</td>\n",
       "      <td>50.111950</td>\n",
       "      <td>2024-06-01</td>\n",
       "      <td>False</td>\n",
       "    </tr>\n",
       "    <tr>\n",
       "      <th>2</th>\n",
       "      <td>D000812</td>\n",
       "      <td>E170_6353</td>\n",
       "      <td>SYSE170-E170_6353-2</td>\n",
       "      <td>16.730575</td>\n",
       "      <td>2024-06-01</td>\n",
       "      <td>False</td>\n",
       "    </tr>\n",
       "    <tr>\n",
       "      <th>3</th>\n",
       "      <td>D006665</td>\n",
       "      <td>E170_6353</td>\n",
       "      <td>ORDE170-E170_6353-3</td>\n",
       "      <td>6.653075</td>\n",
       "      <td>2024-06-01</td>\n",
       "      <td>False</td>\n",
       "    </tr>\n",
       "    <tr>\n",
       "      <th>4</th>\n",
       "      <td>D001163</td>\n",
       "      <td>E170_6353</td>\n",
       "      <td>AUTE170-E170_6353-4</td>\n",
       "      <td>42.033525</td>\n",
       "      <td>2024-06-01</td>\n",
       "      <td>False</td>\n",
       "    </tr>\n",
       "  </tbody>\n",
       "</table>\n",
       "</div>"
      ],
      "text/plain": [
       "   ref_deg linked_aero      compo_concerned  usure_nouvelle measure_day  \\\n",
       "0  D003661   E170_6353  REAE170-E170_6353-0       53.308375  2024-06-01   \n",
       "1  D009402   E170_6353  REAE170-E170_6353-1       50.111950  2024-06-01   \n",
       "2  D000812   E170_6353  SYSE170-E170_6353-2       16.730575  2024-06-01   \n",
       "3  D006665   E170_6353  ORDE170-E170_6353-3        6.653075  2024-06-01   \n",
       "4  D001163   E170_6353  AUTE170-E170_6353-4       42.033525  2024-06-01   \n",
       "\n",
       "   need_replacement  \n",
       "0             False  \n",
       "1             False  \n",
       "2             False  \n",
       "3             False  \n",
       "4             False  "
      ]
     },
     "execution_count": 3,
     "metadata": {},
     "output_type": "execute_result"
    }
   ],
   "source": [
    "df_degradations =  pd.read_csv(r'D:\\Top_gun\\Datasets\\df_degradations\\all_data_degradations.csv')\n",
    "# df_degradations['measure_day'] = df_degradations['measure_day'].astype(str).apply(supprimer_heure_minutes_secondes)\n",
    "# df_degradations['measure_day'] = pd.to_datetime(df_degradations['measure_day'], format='%Y-%m-%d', errors='coerce')\n",
    "df_degradations.head()"
   ]
  },
  {
   "cell_type": "code",
   "execution_count": 4,
   "metadata": {},
   "outputs": [
    {
     "name": "stdout",
     "output_type": "stream",
     "text": [
      "<class 'pandas.core.frame.DataFrame'>\n",
      "RangeIndex: 1284660 entries, 0 to 1284659\n",
      "Data columns (total 6 columns):\n",
      " #   Column            Non-Null Count    Dtype  \n",
      "---  ------            --------------    -----  \n",
      " 0   ref_deg           1284660 non-null  object \n",
      " 1   linked_aero       1284660 non-null  object \n",
      " 2   compo_concerned   1284660 non-null  object \n",
      " 3   usure_nouvelle    1284660 non-null  float64\n",
      " 4   measure_day       1284660 non-null  object \n",
      " 5   need_replacement  1284660 non-null  bool   \n",
      "dtypes: bool(1), float64(1), object(4)\n",
      "memory usage: 50.2+ MB\n"
     ]
    }
   ],
   "source": [
    "df_degradations.info()"
   ]
  },
  {
   "cell_type": "code",
   "execution_count": 5,
   "metadata": {},
   "outputs": [
    {
     "data": {
      "text/plain": [
       "['2023-07-02 00:00:00',\n",
       " '2023-07-07 00:00:00',\n",
       " '2023-08-23 00:00:00',\n",
       " '2023-09-04 00:00:00',\n",
       " '2024-01-21 00:00:00',\n",
       " '2024-04-05 00:00:00',\n",
       " '2024-05-31',\n",
       " '2024-06-01',\n",
       " '2024-06-02',\n",
       " '2024-06-03',\n",
       " '2024-06-04',\n",
       " '2024-06-05',\n",
       " '2024-06-06',\n",
       " '2024-06-07',\n",
       " '2024-06-08',\n",
       " '2024-06-09',\n",
       " '2024-06-10',\n",
       " '2024-06-11',\n",
       " '2024-06-12']"
      ]
     },
     "execution_count": 5,
     "metadata": {},
     "output_type": "execute_result"
    }
   ],
   "source": [
    "date = [key for key, value in df_degradations['measure_day'].value_counts().items()]\n",
    "\n",
    "sorted(date)"
   ]
  },
  {
   "cell_type": "code",
   "execution_count": 6,
   "metadata": {},
   "outputs": [
    {
     "data": {
      "text/html": [
       "<pre style=\"white-space:pre;overflow-x:auto;line-height:normal;font-family:Menlo,'DejaVu Sans Mono',consolas,'Courier New',monospace\">╭──────────────────────────────────────────────── skimpy summary ─────────────────────────────────────────────────╮\n",
       "│ <span style=\"font-style: italic\">         Data Summary          </span> <span style=\"font-style: italic\">      Data Types       </span>                                                         │\n",
       "│ ┏━━━━━━━━━━━━━━━━━━━┳━━━━━━━━━┓ ┏━━━━━━━━━━━━━┳━━━━━━━┓                                                         │\n",
       "│ ┃<span style=\"color: #008080; text-decoration-color: #008080; font-weight: bold\"> dataframe         </span>┃<span style=\"color: #008080; text-decoration-color: #008080; font-weight: bold\"> Values  </span>┃ ┃<span style=\"color: #008080; text-decoration-color: #008080; font-weight: bold\"> Column Type </span>┃<span style=\"color: #008080; text-decoration-color: #008080; font-weight: bold\"> Count </span>┃                                                         │\n",
       "│ ┡━━━━━━━━━━━━━━━━━━━╇━━━━━━━━━┩ ┡━━━━━━━━━━━━━╇━━━━━━━┩                                                         │\n",
       "│ │ Number of rows    │ 1284660 │ │ string      │ 4     │                                                         │\n",
       "│ │ Number of columns │ 6       │ │ float64     │ 1     │                                                         │\n",
       "│ └───────────────────┴─────────┘ │ bool        │ 1     │                                                         │\n",
       "│                                 └─────────────┴───────┘                                                         │\n",
       "│ <span style=\"font-style: italic\">                                                    number                                                    </span>  │\n",
       "│ ┏━━━━━━━━━━━━━━━━━━━━┳━━━━━┳━━━━━━━━┳━━━━━━━━━┳━━━━━━━━━┳━━━━━━━┳━━━━━━━━┳━━━━━━━━┳━━━━━━━━┳━━━━━━━┳━━━━━━━━━┓  │\n",
       "│ ┃<span style=\"font-weight: bold\"> column_name        </span>┃<span style=\"font-weight: bold\"> NA  </span>┃<span style=\"font-weight: bold\"> NA %   </span>┃<span style=\"font-weight: bold\"> mean    </span>┃<span style=\"font-weight: bold\"> sd      </span>┃<span style=\"font-weight: bold\"> p0    </span>┃<span style=\"font-weight: bold\"> p25    </span>┃<span style=\"font-weight: bold\"> p50    </span>┃<span style=\"font-weight: bold\"> p75    </span>┃<span style=\"font-weight: bold\"> p100  </span>┃<span style=\"font-weight: bold\"> hist    </span>┃  │\n",
       "│ ┡━━━━━━━━━━━━━━━━━━━━╇━━━━━╇━━━━━━━━╇━━━━━━━━━╇━━━━━━━━━╇━━━━━━━╇━━━━━━━━╇━━━━━━━━╇━━━━━━━━╇━━━━━━━╇━━━━━━━━━┩  │\n",
       "│ │ <span style=\"color: #af87ff; text-decoration-color: #af87ff\">usure_nouvelle    </span> │ <span style=\"color: #008080; text-decoration-color: #008080\">  0</span> │ <span style=\"color: #008080; text-decoration-color: #008080\">     0</span> │ <span style=\"color: #008080; text-decoration-color: #008080\">  32.54</span> │ <span style=\"color: #008080; text-decoration-color: #008080\">  17.43</span> │ <span style=\"color: #008080; text-decoration-color: #008080\"> 0.11</span> │ <span style=\"color: #008080; text-decoration-color: #008080\"> 17.74</span> │ <span style=\"color: #008080; text-decoration-color: #008080\"> 32.55</span> │ <span style=\"color: #008080; text-decoration-color: #008080\"> 47.32</span> │ <span style=\"color: #008080; text-decoration-color: #008080\"> 91.6</span> │ <span style=\"color: #008000; text-decoration-color: #008000\"> ▇▇▇▇▁ </span> │  │\n",
       "│ └────────────────────┴─────┴────────┴─────────┴─────────┴───────┴────────┴────────┴────────┴───────┴─────────┘  │\n",
       "│ <span style=\"font-style: italic\">                                                     bool                                                     </span>  │\n",
       "│ ┏━━━━━━━━━━━━━━━━━━━━━━━━━━━━━━━━━━━━━━━━━━━━┳━━━━━━━━━━━━━━━┳━━━━━━━━━━━━━━━━━━━━━━━━━━━┳━━━━━━━━━━━━━━━━━━━┓  │\n",
       "│ ┃<span style=\"font-weight: bold\"> column_name                                </span>┃<span style=\"font-weight: bold\"> true          </span>┃<span style=\"font-weight: bold\"> true rate                 </span>┃<span style=\"font-weight: bold\"> hist              </span>┃  │\n",
       "│ ┡━━━━━━━━━━━━━━━━━━━━━━━━━━━━━━━━━━━━━━━━━━━━╇━━━━━━━━━━━━━━━╇━━━━━━━━━━━━━━━━━━━━━━━━━━━╇━━━━━━━━━━━━━━━━━━━┩  │\n",
       "│ │ <span style=\"color: #af87ff; text-decoration-color: #af87ff\">need_replacement                          </span> │ <span style=\"color: #008080; text-decoration-color: #008080\">            0</span> │ <span style=\"color: #008080; text-decoration-color: #008080\">                        0</span> │ <span style=\"color: #008000; text-decoration-color: #008000\">         ▇       </span> │  │\n",
       "│ └────────────────────────────────────────────┴───────────────┴───────────────────────────┴───────────────────┘  │\n",
       "│ <span style=\"font-style: italic\">                                                    string                                                    </span>  │\n",
       "│ ┏━━━━━━━━━━━━━━━━━━━━━━━━━━━━━━━━━┳━━━━━━━━┳━━━━━━━━━━━━┳━━━━━━━━━━━━━━━━━━━━━━━━━━━━┳━━━━━━━━━━━━━━━━━━━━━━━┓  │\n",
       "│ ┃<span style=\"font-weight: bold\"> column_name                     </span>┃<span style=\"font-weight: bold\"> NA     </span>┃<span style=\"font-weight: bold\"> NA %       </span>┃<span style=\"font-weight: bold\"> words per row              </span>┃<span style=\"font-weight: bold\"> total words           </span>┃  │\n",
       "│ ┡━━━━━━━━━━━━━━━━━━━━━━━━━━━━━━━━━╇━━━━━━━━╇━━━━━━━━━━━━╇━━━━━━━━━━━━━━━━━━━━━━━━━━━━╇━━━━━━━━━━━━━━━━━━━━━━━┩  │\n",
       "│ │ <span style=\"color: #af87ff; text-decoration-color: #af87ff\">ref_deg                        </span> │ <span style=\"color: #008080; text-decoration-color: #008080\">     0</span> │ <span style=\"color: #008080; text-decoration-color: #008080\">         0</span> │ <span style=\"color: #008080; text-decoration-color: #008080\">                         1</span> │ <span style=\"color: #008080; text-decoration-color: #008080\">              1284660</span> │  │\n",
       "│ │ <span style=\"color: #af87ff; text-decoration-color: #af87ff\">linked_aero                    </span> │ <span style=\"color: #008080; text-decoration-color: #008080\">     0</span> │ <span style=\"color: #008080; text-decoration-color: #008080\">         0</span> │ <span style=\"color: #008080; text-decoration-color: #008080\">                         1</span> │ <span style=\"color: #008080; text-decoration-color: #008080\">              1284660</span> │  │\n",
       "│ │ <span style=\"color: #af87ff; text-decoration-color: #af87ff\">compo_concerned                </span> │ <span style=\"color: #008080; text-decoration-color: #008080\">     0</span> │ <span style=\"color: #008080; text-decoration-color: #008080\">         0</span> │ <span style=\"color: #008080; text-decoration-color: #008080\">                         1</span> │ <span style=\"color: #008080; text-decoration-color: #008080\">              1284660</span> │  │\n",
       "│ │ <span style=\"color: #af87ff; text-decoration-color: #af87ff\">measure_day                    </span> │ <span style=\"color: #008080; text-decoration-color: #008080\">     0</span> │ <span style=\"color: #008080; text-decoration-color: #008080\">         0</span> │ <span style=\"color: #008080; text-decoration-color: #008080\">                         1</span> │ <span style=\"color: #008080; text-decoration-color: #008080\">              1309275</span> │  │\n",
       "│ └─────────────────────────────────┴────────┴────────────┴────────────────────────────┴───────────────────────┘  │\n",
       "╰────────────────────────────────────────────────────── End ──────────────────────────────────────────────────────╯\n",
       "</pre>\n"
      ],
      "text/plain": [
       "╭──────────────────────────────────────────────── skimpy summary ─────────────────────────────────────────────────╮\n",
       "│ \u001b[3m         Data Summary          \u001b[0m \u001b[3m      Data Types       \u001b[0m                                                         │\n",
       "│ ┏━━━━━━━━━━━━━━━━━━━┳━━━━━━━━━┓ ┏━━━━━━━━━━━━━┳━━━━━━━┓                                                         │\n",
       "│ ┃\u001b[1;36m \u001b[0m\u001b[1;36mdataframe        \u001b[0m\u001b[1;36m \u001b[0m┃\u001b[1;36m \u001b[0m\u001b[1;36mValues \u001b[0m\u001b[1;36m \u001b[0m┃ ┃\u001b[1;36m \u001b[0m\u001b[1;36mColumn Type\u001b[0m\u001b[1;36m \u001b[0m┃\u001b[1;36m \u001b[0m\u001b[1;36mCount\u001b[0m\u001b[1;36m \u001b[0m┃                                                         │\n",
       "│ ┡━━━━━━━━━━━━━━━━━━━╇━━━━━━━━━┩ ┡━━━━━━━━━━━━━╇━━━━━━━┩                                                         │\n",
       "│ │ Number of rows    │ 1284660 │ │ string      │ 4     │                                                         │\n",
       "│ │ Number of columns │ 6       │ │ float64     │ 1     │                                                         │\n",
       "│ └───────────────────┴─────────┘ │ bool        │ 1     │                                                         │\n",
       "│                                 └─────────────┴───────┘                                                         │\n",
       "│ \u001b[3m                                                    number                                                    \u001b[0m  │\n",
       "│ ┏━━━━━━━━━━━━━━━━━━━━┳━━━━━┳━━━━━━━━┳━━━━━━━━━┳━━━━━━━━━┳━━━━━━━┳━━━━━━━━┳━━━━━━━━┳━━━━━━━━┳━━━━━━━┳━━━━━━━━━┓  │\n",
       "│ ┃\u001b[1m \u001b[0m\u001b[1mcolumn_name       \u001b[0m\u001b[1m \u001b[0m┃\u001b[1m \u001b[0m\u001b[1mNA \u001b[0m\u001b[1m \u001b[0m┃\u001b[1m \u001b[0m\u001b[1mNA %  \u001b[0m\u001b[1m \u001b[0m┃\u001b[1m \u001b[0m\u001b[1mmean   \u001b[0m\u001b[1m \u001b[0m┃\u001b[1m \u001b[0m\u001b[1msd     \u001b[0m\u001b[1m \u001b[0m┃\u001b[1m \u001b[0m\u001b[1mp0   \u001b[0m\u001b[1m \u001b[0m┃\u001b[1m \u001b[0m\u001b[1mp25   \u001b[0m\u001b[1m \u001b[0m┃\u001b[1m \u001b[0m\u001b[1mp50   \u001b[0m\u001b[1m \u001b[0m┃\u001b[1m \u001b[0m\u001b[1mp75   \u001b[0m\u001b[1m \u001b[0m┃\u001b[1m \u001b[0m\u001b[1mp100 \u001b[0m\u001b[1m \u001b[0m┃\u001b[1m \u001b[0m\u001b[1mhist   \u001b[0m\u001b[1m \u001b[0m┃  │\n",
       "│ ┡━━━━━━━━━━━━━━━━━━━━╇━━━━━╇━━━━━━━━╇━━━━━━━━━╇━━━━━━━━━╇━━━━━━━╇━━━━━━━━╇━━━━━━━━╇━━━━━━━━╇━━━━━━━╇━━━━━━━━━┩  │\n",
       "│ │ \u001b[38;5;141musure_nouvelle    \u001b[0m │ \u001b[36m  0\u001b[0m │ \u001b[36m     0\u001b[0m │ \u001b[36m  32.54\u001b[0m │ \u001b[36m  17.43\u001b[0m │ \u001b[36m 0.11\u001b[0m │ \u001b[36m 17.74\u001b[0m │ \u001b[36m 32.55\u001b[0m │ \u001b[36m 47.32\u001b[0m │ \u001b[36m 91.6\u001b[0m │ \u001b[32m ▇▇▇▇▁ \u001b[0m │  │\n",
       "│ └────────────────────┴─────┴────────┴─────────┴─────────┴───────┴────────┴────────┴────────┴───────┴─────────┘  │\n",
       "│ \u001b[3m                                                     bool                                                     \u001b[0m  │\n",
       "│ ┏━━━━━━━━━━━━━━━━━━━━━━━━━━━━━━━━━━━━━━━━━━━━┳━━━━━━━━━━━━━━━┳━━━━━━━━━━━━━━━━━━━━━━━━━━━┳━━━━━━━━━━━━━━━━━━━┓  │\n",
       "│ ┃\u001b[1m \u001b[0m\u001b[1mcolumn_name                               \u001b[0m\u001b[1m \u001b[0m┃\u001b[1m \u001b[0m\u001b[1mtrue         \u001b[0m\u001b[1m \u001b[0m┃\u001b[1m \u001b[0m\u001b[1mtrue rate                \u001b[0m\u001b[1m \u001b[0m┃\u001b[1m \u001b[0m\u001b[1mhist             \u001b[0m\u001b[1m \u001b[0m┃  │\n",
       "│ ┡━━━━━━━━━━━━━━━━━━━━━━━━━━━━━━━━━━━━━━━━━━━━╇━━━━━━━━━━━━━━━╇━━━━━━━━━━━━━━━━━━━━━━━━━━━╇━━━━━━━━━━━━━━━━━━━┩  │\n",
       "│ │ \u001b[38;5;141mneed_replacement                          \u001b[0m │ \u001b[36m            0\u001b[0m │ \u001b[36m                        0\u001b[0m │ \u001b[32m         ▇       \u001b[0m │  │\n",
       "│ └────────────────────────────────────────────┴───────────────┴───────────────────────────┴───────────────────┘  │\n",
       "│ \u001b[3m                                                    string                                                    \u001b[0m  │\n",
       "│ ┏━━━━━━━━━━━━━━━━━━━━━━━━━━━━━━━━━┳━━━━━━━━┳━━━━━━━━━━━━┳━━━━━━━━━━━━━━━━━━━━━━━━━━━━┳━━━━━━━━━━━━━━━━━━━━━━━┓  │\n",
       "│ ┃\u001b[1m \u001b[0m\u001b[1mcolumn_name                    \u001b[0m\u001b[1m \u001b[0m┃\u001b[1m \u001b[0m\u001b[1mNA    \u001b[0m\u001b[1m \u001b[0m┃\u001b[1m \u001b[0m\u001b[1mNA %      \u001b[0m\u001b[1m \u001b[0m┃\u001b[1m \u001b[0m\u001b[1mwords per row             \u001b[0m\u001b[1m \u001b[0m┃\u001b[1m \u001b[0m\u001b[1mtotal words          \u001b[0m\u001b[1m \u001b[0m┃  │\n",
       "│ ┡━━━━━━━━━━━━━━━━━━━━━━━━━━━━━━━━━╇━━━━━━━━╇━━━━━━━━━━━━╇━━━━━━━━━━━━━━━━━━━━━━━━━━━━╇━━━━━━━━━━━━━━━━━━━━━━━┩  │\n",
       "│ │ \u001b[38;5;141mref_deg                        \u001b[0m │ \u001b[36m     0\u001b[0m │ \u001b[36m         0\u001b[0m │ \u001b[36m                         1\u001b[0m │ \u001b[36m              1284660\u001b[0m │  │\n",
       "│ │ \u001b[38;5;141mlinked_aero                    \u001b[0m │ \u001b[36m     0\u001b[0m │ \u001b[36m         0\u001b[0m │ \u001b[36m                         1\u001b[0m │ \u001b[36m              1284660\u001b[0m │  │\n",
       "│ │ \u001b[38;5;141mcompo_concerned                \u001b[0m │ \u001b[36m     0\u001b[0m │ \u001b[36m         0\u001b[0m │ \u001b[36m                         1\u001b[0m │ \u001b[36m              1284660\u001b[0m │  │\n",
       "│ │ \u001b[38;5;141mmeasure_day                    \u001b[0m │ \u001b[36m     0\u001b[0m │ \u001b[36m         0\u001b[0m │ \u001b[36m                         1\u001b[0m │ \u001b[36m              1309275\u001b[0m │  │\n",
       "│ └─────────────────────────────────┴────────┴────────────┴────────────────────────────┴───────────────────────┘  │\n",
       "╰────────────────────────────────────────────────────── End ──────────────────────────────────────────────────────╯\n"
      ]
     },
     "metadata": {},
     "output_type": "display_data"
    }
   ],
   "source": [
    "skim(df_degradations)"
   ]
  },
  {
   "cell_type": "code",
   "execution_count": 7,
   "metadata": {},
   "outputs": [],
   "source": [
    "# # Enregistrement du fichier degradations dans un fichier csv\n",
    "# df_degradations.to_csv('D:\\\\Top_gun\\\\Data_clean\\\\degradations_full_cleaned.csv', index=False)"
   ]
  }
 ],
 "metadata": {
  "kernelspec": {
   "display_name": "Python 3",
   "language": "python",
   "name": "python3"
  },
  "language_info": {
   "codemirror_mode": {
    "name": "ipython",
    "version": 3
   },
   "file_extension": ".py",
   "mimetype": "text/x-python",
   "name": "python",
   "nbconvert_exporter": "python",
   "pygments_lexer": "ipython3",
   "version": "3.12.2"
  }
 },
 "nbformat": 4,
 "nbformat_minor": 2
}
